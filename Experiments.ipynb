{
 "metadata": {
  "name": "",
  "signature": "sha256:07c82182cc2f7dd37e521e460234062bace35b625e31455caeb2219a9cd532c0"
 },
 "nbformat": 3,
 "nbformat_minor": 0,
 "worksheets": [
  {
   "cells": [
    {
     "cell_type": "code",
     "collapsed": false,
     "input": [
      "from textblob import TextBlob\n",
      "t = TextBlob(\"This is a test. These are only some tests.\")\n",
      "t.words"
     ],
     "language": "python",
     "metadata": {},
     "outputs": [
      {
       "metadata": {},
       "output_type": "pyout",
       "prompt_number": 2,
       "text": [
        "WordList([u'This', u'is', u'a', u'test', u'These', u'are', u'only', u'some', u'tests'])"
       ]
      }
     ],
     "prompt_number": 2
    },
    {
     "cell_type": "code",
     "collapsed": false,
     "input": [
      "t.pos_tags"
     ],
     "language": "python",
     "metadata": {},
     "outputs": [
      {
       "metadata": {},
       "output_type": "pyout",
       "prompt_number": 3,
       "text": [
        "[(u'This', u'DT'),\n",
        " (u'is', u'VBZ'),\n",
        " (u'a', u'DT'),\n",
        " (u'test', u'NN'),\n",
        " (u'These', u'DT'),\n",
        " (u'are', u'NN'),\n",
        " (u'only', u'RB'),\n",
        " (u'some', u'DT'),\n",
        " (u'tests', u'NNS')]"
       ]
      }
     ],
     "prompt_number": 3
    },
    {
     "cell_type": "code",
     "collapsed": false,
     "input": [
      "t.words[1] = 'wednesday'"
     ],
     "language": "python",
     "metadata": {},
     "outputs": [],
     "prompt_number": 4
    },
    {
     "cell_type": "code",
     "collapsed": false,
     "input": [
      "t.words"
     ],
     "language": "python",
     "metadata": {},
     "outputs": [
      {
       "metadata": {},
       "output_type": "pyout",
       "prompt_number": 5,
       "text": [
        "WordList([u'This', u'is', u'a', u'test', u'These', u'are', u'only', u'some', u'tests'])"
       ]
      }
     ],
     "prompt_number": 5
    },
    {
     "cell_type": "code",
     "collapsed": false,
     "input": [
      "t.sentences"
     ],
     "language": "python",
     "metadata": {},
     "outputs": [
      {
       "metadata": {},
       "output_type": "pyout",
       "prompt_number": 6,
       "text": [
        "[Sentence(\"This is a test.\"), Sentence(\"These are only some tests.\")]"
       ]
      }
     ],
     "prompt_number": 6
    },
    {
     "cell_type": "code",
     "collapsed": false,
     "input": [
      "a = t.parse()\n",
      "a"
     ],
     "language": "python",
     "metadata": {},
     "outputs": [
      {
       "metadata": {},
       "output_type": "pyout",
       "prompt_number": 7,
       "text": [
        "u'This/DT/O/O is/VBZ/B-VP/O a/DT/B-NP/O test/NN/I-NP/O ././O/O\\nThese/DT/B-NP/O are/NN/I-NP/O only/RB/B-ADVP/O some/DT/B-NP/O tests/NNS/I-NP/O ././O/O'"
       ]
      }
     ],
     "prompt_number": 7
    },
    {
     "cell_type": "code",
     "collapsed": false,
     "input": [
      "t.words[1]"
     ],
     "language": "python",
     "metadata": {},
     "outputs": [
      {
       "metadata": {},
       "output_type": "pyout",
       "prompt_number": 8,
       "text": [
        "'is'"
       ]
      }
     ],
     "prompt_number": 8
    },
    {
     "cell_type": "code",
     "collapsed": false,
     "input": [
      "t.words[1].lemmatize()"
     ],
     "language": "python",
     "metadata": {},
     "outputs": [
      {
       "metadata": {},
       "output_type": "pyout",
       "prompt_number": 9,
       "text": [
        "'is'"
       ]
      }
     ],
     "prompt_number": 9
    },
    {
     "cell_type": "code",
     "collapsed": false,
     "input": [
      "t2 = TextBlob('John devoured his dinner like cookie monster devouring a cookie.')\n",
      "t2.words"
     ],
     "language": "python",
     "metadata": {},
     "outputs": [
      {
       "metadata": {},
       "output_type": "pyout",
       "prompt_number": 20,
       "text": [
        "WordList([u'John', u'devoured', u'his', u'dinner', u'like', u'cookie', u'monster', u'devouring', u'a', u'cookie'])"
       ]
      }
     ],
     "prompt_number": 20
    },
    {
     "cell_type": "code",
     "collapsed": false,
     "input": [
      "t2.pos_tags"
     ],
     "language": "python",
     "metadata": {},
     "outputs": [
      {
       "metadata": {},
       "output_type": "pyout",
       "prompt_number": 24,
       "text": [
        "[(u'John', u'NNP'),\n",
        " (u'devoured', u'VBD'),\n",
        " (u'his', u'PRP$'),\n",
        " (u'dinner', u'NN'),\n",
        " (u'like', u'IN'),\n",
        " (u'cookie', u'NN'),\n",
        " (u'monster', u'NN'),\n",
        " (u'devouring', u'VBG'),\n",
        " (u'a', u'DT'),\n",
        " (u'cookie', u'NN')]"
       ]
      }
     ],
     "prompt_number": 24
    },
    {
     "cell_type": "code",
     "collapsed": false,
     "input": [
      "words = [w for (w, t) in t2.pos_tags]\n",
      "words"
     ],
     "language": "python",
     "metadata": {},
     "outputs": [
      {
       "metadata": {},
       "output_type": "pyout",
       "prompt_number": 26,
       "text": [
        "[u'John',\n",
        " u'devoured',\n",
        " u'his',\n",
        " u'dinner',\n",
        " u'like',\n",
        " u'cookie',\n",
        " u'monster',\n",
        " u'devouring',\n",
        " u'a',\n",
        " u'cookie']"
       ]
      }
     ],
     "prompt_number": 26
    },
    {
     "cell_type": "code",
     "collapsed": false,
     "input": [
      "words[1].pos_tag"
     ],
     "language": "python",
     "metadata": {},
     "outputs": [
      {
       "metadata": {},
       "output_type": "pyout",
       "prompt_number": 27,
       "text": [
        "u'VBD'"
       ]
      }
     ],
     "prompt_number": 27
    },
    {
     "cell_type": "code",
     "collapsed": false,
     "input": [
      "words[1].lemmatize()"
     ],
     "language": "python",
     "metadata": {},
     "outputs": [
      {
       "metadata": {},
       "output_type": "pyout",
       "prompt_number": 28,
       "text": [
        "u'devoured'"
       ]
      }
     ],
     "prompt_number": 28
    },
    {
     "cell_type": "code",
     "collapsed": false,
     "input": [
      "words[1].lemmatize('v')"
     ],
     "language": "python",
     "metadata": {},
     "outputs": [
      {
       "metadata": {},
       "output_type": "pyout",
       "prompt_number": 32,
       "text": [
        "u'devour'"
       ]
      }
     ],
     "prompt_number": 32
    },
    {
     "cell_type": "code",
     "collapsed": false,
     "input": [
      "words[7].pos_tag"
     ],
     "language": "python",
     "metadata": {},
     "outputs": [
      {
       "metadata": {},
       "output_type": "pyout",
       "prompt_number": 29,
       "text": [
        "u'VBG'"
       ]
      }
     ],
     "prompt_number": 29
    },
    {
     "cell_type": "code",
     "collapsed": false,
     "input": [
      "words[7].lemmatize('v')"
     ],
     "language": "python",
     "metadata": {},
     "outputs": [
      {
       "metadata": {},
       "output_type": "pyout",
       "prompt_number": 33,
       "text": [
        "u'devour'"
       ]
      }
     ],
     "prompt_number": 33
    },
    {
     "cell_type": "code",
     "collapsed": false,
     "input": [
      "from textblob import Word\n",
      "s = Word('catherine').synsets\n",
      "s"
     ],
     "language": "python",
     "metadata": {},
     "outputs": [
      {
       "metadata": {},
       "output_type": "pyout",
       "prompt_number": 3,
       "text": [
        "[Synset('catherine_of_aragon.n.01'), Synset('catherine_ii.n.01')]"
       ]
      }
     ],
     "prompt_number": 3
    },
    {
     "cell_type": "code",
     "collapsed": false,
     "input": [
      "s[0].hypernyms(recursive=True)"
     ],
     "language": "python",
     "metadata": {},
     "outputs": [
      {
       "ename": "TypeError",
       "evalue": "hypernyms() got an unexpected keyword argument 'recursive'",
       "output_type": "pyerr",
       "traceback": [
        "\u001b[0;31m---------------------------------------------------------------------------\u001b[0m\n\u001b[0;31mTypeError\u001b[0m                                 Traceback (most recent call last)",
        "\u001b[0;32m<ipython-input-8-29f060af1181>\u001b[0m in \u001b[0;36m<module>\u001b[0;34m()\u001b[0m\n\u001b[0;32m----> 1\u001b[0;31m \u001b[0ms\u001b[0m\u001b[0;34m[\u001b[0m\u001b[0;36m0\u001b[0m\u001b[0;34m]\u001b[0m\u001b[0;34m.\u001b[0m\u001b[0mhypernyms\u001b[0m\u001b[0;34m(\u001b[0m\u001b[0mrecursive\u001b[0m\u001b[0;34m=\u001b[0m\u001b[0mTrue\u001b[0m\u001b[0;34m)\u001b[0m\u001b[0;34m\u001b[0m\u001b[0m\n\u001b[0m",
        "\u001b[0;31mTypeError\u001b[0m: hypernyms() got an unexpected keyword argument 'recursive'"
       ]
      }
     ],
     "prompt_number": 8
    },
    {
     "cell_type": "code",
     "collapsed": false,
     "input": [
      "h = lambda s: s.hypernyms() + s.instance_hypernyms()\n",
      "s[0].tree(h)"
     ],
     "language": "python",
     "metadata": {},
     "outputs": [
      {
       "metadata": {},
       "output_type": "pyout",
       "prompt_number": 10,
       "text": [
        "[Synset('catherine_of_aragon.n.01'),\n",
        " [Synset('wife.n.01'),\n",
        "  [Synset('spouse.n.01'),\n",
        "   [Synset('relative.n.01'),\n",
        "    [Synset('person.n.01'),\n",
        "     [Synset('organism.n.01'),\n",
        "      [Synset('living_thing.n.01'),\n",
        "       [Synset('whole.n.02'),\n",
        "        [Synset('object.n.01'),\n",
        "         [Synset('physical_entity.n.01'), [Synset('entity.n.01')]]]]]],\n",
        "     [Synset('causal_agent.n.01'),\n",
        "      [Synset('physical_entity.n.01'), [Synset('entity.n.01')]]]]],\n",
        "   [Synset('domestic_partner.n.01'),\n",
        "    [Synset('person.n.01'),\n",
        "     [Synset('organism.n.01'),\n",
        "      [Synset('living_thing.n.01'),\n",
        "       [Synset('whole.n.02'),\n",
        "        [Synset('object.n.01'),\n",
        "         [Synset('physical_entity.n.01'), [Synset('entity.n.01')]]]]]],\n",
        "     [Synset('causal_agent.n.01'),\n",
        "      [Synset('physical_entity.n.01'), [Synset('entity.n.01')]]]]]],\n",
        "  [Synset('woman.n.01'),\n",
        "   [Synset('female.n.02'),\n",
        "    [Synset('person.n.01'),\n",
        "     [Synset('organism.n.01'),\n",
        "      [Synset('living_thing.n.01'),\n",
        "       [Synset('whole.n.02'),\n",
        "        [Synset('object.n.01'),\n",
        "         [Synset('physical_entity.n.01'), [Synset('entity.n.01')]]]]]],\n",
        "     [Synset('causal_agent.n.01'),\n",
        "      [Synset('physical_entity.n.01'), [Synset('entity.n.01')]]]]],\n",
        "   [Synset('adult.n.01'),\n",
        "    [Synset('person.n.01'),\n",
        "     [Synset('organism.n.01'),\n",
        "      [Synset('living_thing.n.01'),\n",
        "       [Synset('whole.n.02'),\n",
        "        [Synset('object.n.01'),\n",
        "         [Synset('physical_entity.n.01'), [Synset('entity.n.01')]]]]]],\n",
        "     [Synset('causal_agent.n.01'),\n",
        "      [Synset('physical_entity.n.01'), [Synset('entity.n.01')]]]]]]]]"
       ]
      }
     ],
     "prompt_number": 10
    },
    {
     "cell_type": "code",
     "collapsed": false,
     "input": [
      "list(s[0].closure(h))[7].name"
     ],
     "language": "python",
     "metadata": {},
     "outputs": [
      {
       "metadata": {},
       "output_type": "pyout",
       "prompt_number": 19,
       "text": [
        "'person.n.01'"
       ]
      }
     ],
     "prompt_number": 19
    },
    {
     "cell_type": "code",
     "collapsed": false,
     "input": [],
     "language": "python",
     "metadata": {},
     "outputs": []
    }
   ],
   "metadata": {}
  }
 ]
}